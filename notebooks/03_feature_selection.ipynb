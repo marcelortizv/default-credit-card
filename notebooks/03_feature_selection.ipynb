{
 "cells": [
  {
   "cell_type": "markdown",
   "metadata": {
    "collapsed": true,
    "pycharm": {
     "name": "#%% md\n"
    }
   },
   "source": [
    "# Modeling Process"
   ]
  },
  {
   "cell_type": "code",
   "execution_count": 1,
   "outputs": [],
   "source": [
    "# Utils.models contains all libraries needed\n",
    "from utils.models import *\n",
    "import os"
   ],
   "metadata": {
    "collapsed": false,
    "pycharm": {
     "name": "#%%\n"
    }
   }
  },
  {
   "cell_type": "code",
   "execution_count": 2,
   "outputs": [],
   "source": [
    "# notebook parameters\n",
    "\n",
    "models_path = '../models'\n",
    "data_path = '../data'\n",
    "output_path = '../outputs'\n",
    "filename_data = 'clean-dataset'"
   ],
   "metadata": {
    "collapsed": false,
    "pycharm": {
     "name": "#%%\n"
    }
   }
  },
  {
   "cell_type": "code",
   "execution_count": 3,
   "outputs": [],
   "source": [
    "try:\n",
    "    os.makedirs(f\"{models_path}/features_by_models\")\n",
    "except FileExistsError:\n",
    "    # directory already exists\n",
    "    pass\n",
    "\n",
    "try:\n",
    "    os.makedirs(f\"{models_path}/features_scores_models\")\n",
    "except FileExistsError:\n",
    "    # directory already exists\n",
    "    pass"
   ],
   "metadata": {
    "collapsed": false,
    "pycharm": {
     "name": "#%%\n"
    }
   }
  },
  {
   "cell_type": "code",
   "execution_count": 4,
   "outputs": [
    {
     "name": "stdout",
     "output_type": "stream",
     "text": [
      "This dataset has shape:  (30000, 42)\n"
     ]
    },
    {
     "data": {
      "text/plain": "   LIMIT_BAL  PAY_0  PAY_2  PAY_3  PAY_4  PAY_5  PAY_6  BILL_AMT1  BILL_AMT2  \\\n0      20000      2      2     -1     -1     -2     -2       3913       3102   \n1     120000     -1      2      0      0      0      2       2682       1725   \n2      90000      0      0      0      0      0      0      29239      14027   \n3      50000      0      0      0      0      0      0      46990      48233   \n4      50000     -1      0     -1      0      0      0       8617       5670   \n\n   BILL_AMT3  ...  PAY_TO_BILL_5  PAY_TO_BILL_6  PAY_AMOUNT_STD_LAST_6M  \\\n0        689  ...       0.000000       0.000000              281.283072   \n1       2682  ...       0.000000       0.613121              752.772653   \n2      13559  ...       0.066894       0.321543             1569.815488   \n3      49291  ...       0.036913       0.033843              478.058155   \n4      35835  ...       0.035985       0.035490            13786.230736   \n\n   BILL_AMOUNT_STD_LAST_6M  AGE_<=40  AGE_<=60  AGE_<=80  RISKY_GROUP1  \\\n0              1761.633219         1         0         0             1   \n1               637.967841         1         0         0             1   \n2              6064.518593         1         0         0             1   \n3             10565.793518         1         0         0             1   \n4             10668.590074         0         1         0             0   \n\n   RISKY_GROUP2  RISKY_GROUP3  \n0             0             1  \n1             0             1  \n2             0             1  \n3             0             1  \n4             1             0  \n\n[5 rows x 42 columns]",
      "text/html": "<div>\n<style scoped>\n    .dataframe tbody tr th:only-of-type {\n        vertical-align: middle;\n    }\n\n    .dataframe tbody tr th {\n        vertical-align: top;\n    }\n\n    .dataframe thead th {\n        text-align: right;\n    }\n</style>\n<table border=\"1\" class=\"dataframe\">\n  <thead>\n    <tr style=\"text-align: right;\">\n      <th></th>\n      <th>LIMIT_BAL</th>\n      <th>PAY_0</th>\n      <th>PAY_2</th>\n      <th>PAY_3</th>\n      <th>PAY_4</th>\n      <th>PAY_5</th>\n      <th>PAY_6</th>\n      <th>BILL_AMT1</th>\n      <th>BILL_AMT2</th>\n      <th>BILL_AMT3</th>\n      <th>...</th>\n      <th>PAY_TO_BILL_5</th>\n      <th>PAY_TO_BILL_6</th>\n      <th>PAY_AMOUNT_STD_LAST_6M</th>\n      <th>BILL_AMOUNT_STD_LAST_6M</th>\n      <th>AGE_&lt;=40</th>\n      <th>AGE_&lt;=60</th>\n      <th>AGE_&lt;=80</th>\n      <th>RISKY_GROUP1</th>\n      <th>RISKY_GROUP2</th>\n      <th>RISKY_GROUP3</th>\n    </tr>\n  </thead>\n  <tbody>\n    <tr>\n      <th>0</th>\n      <td>20000</td>\n      <td>2</td>\n      <td>2</td>\n      <td>-1</td>\n      <td>-1</td>\n      <td>-2</td>\n      <td>-2</td>\n      <td>3913</td>\n      <td>3102</td>\n      <td>689</td>\n      <td>...</td>\n      <td>0.000000</td>\n      <td>0.000000</td>\n      <td>281.283072</td>\n      <td>1761.633219</td>\n      <td>1</td>\n      <td>0</td>\n      <td>0</td>\n      <td>1</td>\n      <td>0</td>\n      <td>1</td>\n    </tr>\n    <tr>\n      <th>1</th>\n      <td>120000</td>\n      <td>-1</td>\n      <td>2</td>\n      <td>0</td>\n      <td>0</td>\n      <td>0</td>\n      <td>2</td>\n      <td>2682</td>\n      <td>1725</td>\n      <td>2682</td>\n      <td>...</td>\n      <td>0.000000</td>\n      <td>0.613121</td>\n      <td>752.772653</td>\n      <td>637.967841</td>\n      <td>1</td>\n      <td>0</td>\n      <td>0</td>\n      <td>1</td>\n      <td>0</td>\n      <td>1</td>\n    </tr>\n    <tr>\n      <th>2</th>\n      <td>90000</td>\n      <td>0</td>\n      <td>0</td>\n      <td>0</td>\n      <td>0</td>\n      <td>0</td>\n      <td>0</td>\n      <td>29239</td>\n      <td>14027</td>\n      <td>13559</td>\n      <td>...</td>\n      <td>0.066894</td>\n      <td>0.321543</td>\n      <td>1569.815488</td>\n      <td>6064.518593</td>\n      <td>1</td>\n      <td>0</td>\n      <td>0</td>\n      <td>1</td>\n      <td>0</td>\n      <td>1</td>\n    </tr>\n    <tr>\n      <th>3</th>\n      <td>50000</td>\n      <td>0</td>\n      <td>0</td>\n      <td>0</td>\n      <td>0</td>\n      <td>0</td>\n      <td>0</td>\n      <td>46990</td>\n      <td>48233</td>\n      <td>49291</td>\n      <td>...</td>\n      <td>0.036913</td>\n      <td>0.033843</td>\n      <td>478.058155</td>\n      <td>10565.793518</td>\n      <td>1</td>\n      <td>0</td>\n      <td>0</td>\n      <td>1</td>\n      <td>0</td>\n      <td>1</td>\n    </tr>\n    <tr>\n      <th>4</th>\n      <td>50000</td>\n      <td>-1</td>\n      <td>0</td>\n      <td>-1</td>\n      <td>0</td>\n      <td>0</td>\n      <td>0</td>\n      <td>8617</td>\n      <td>5670</td>\n      <td>35835</td>\n      <td>...</td>\n      <td>0.035985</td>\n      <td>0.035490</td>\n      <td>13786.230736</td>\n      <td>10668.590074</td>\n      <td>0</td>\n      <td>1</td>\n      <td>0</td>\n      <td>0</td>\n      <td>1</td>\n      <td>0</td>\n    </tr>\n  </tbody>\n</table>\n<p>5 rows × 42 columns</p>\n</div>"
     },
     "execution_count": 4,
     "metadata": {},
     "output_type": "execute_result"
    }
   ],
   "source": [
    "# load data\n",
    "data = pd.read_csv(f\"{data_path}/{filename_data}.csv\")\n",
    "print('This dataset has shape: ', data.shape)\n",
    "data.head()"
   ],
   "metadata": {
    "collapsed": false,
    "pycharm": {
     "name": "#%%\n"
    }
   }
  },
  {
   "cell_type": "markdown",
   "source": [
    "***\n",
    "### Selecting features\n"
   ],
   "metadata": {
    "collapsed": false,
    "pycharm": {
     "name": "#%% md\n"
    }
   }
  },
  {
   "cell_type": "code",
   "execution_count": 5,
   "outputs": [],
   "source": [
    "X, y = preprocess(data, 'dpnm')\n",
    "\n",
    "n_colums = X.shape[1]\n",
    "min_cols= 30 # minimum quantity of features to try in Selectkbest"
   ],
   "metadata": {
    "collapsed": false,
    "pycharm": {
     "name": "#%%\n"
    }
   }
  },
  {
   "cell_type": "code",
   "execution_count": 6,
   "outputs": [],
   "source": [
    "# init models\n",
    "\n",
    "tree = DecisionTreeClassifier()\n",
    "sgd = SGDClassifier(loss='log')\n",
    "lr = LogisticRegression(solver = 'lbfgs')\n",
    "svc = SVC()\n",
    "rf = RandomForestClassifier()\n",
    "xgboost = xgb.XGBClassifier()\n",
    "naive = GaussianNB()\n",
    "knn = KNeighborsClassifier()\n",
    "ada = AdaBoostClassifier()\n",
    "\n",
    "classifiers = [tree,sgd, lr, svc, rf, xgboost, naive, knn, ada]"
   ],
   "metadata": {
    "collapsed": false,
    "pycharm": {
     "name": "#%%\n"
    }
   }
  },
  {
   "cell_type": "code",
   "execution_count": 7,
   "outputs": [
    {
     "name": "stderr",
     "output_type": "stream",
     "text": [
      "100%|██████████| 9/9 [1:12:29<00:00, 483.33s/it]  \n"
     ]
    },
    {
     "name": "stdout",
     "output_type": "stream",
     "text": [
      "Model DecisionTreeClassifier works with 25 features\n",
      "---------------------------------------\n",
      "DecisionTreeClassifier_0.73 saved successfully!\n",
      "Model SGDClassifier works with 24 features\n",
      "---------------------------------------\n",
      "SGDClassifier_0.78 saved successfully!\n",
      "Model LogisticRegression works with 17 features\n",
      "---------------------------------------\n",
      "LogisticRegression_0.78 saved successfully!\n",
      "Model SVC works with 41 features\n",
      "---------------------------------------\n",
      "SVC_0.78 saved successfully!\n",
      "Model RandomForestClassifier works with 27 features\n",
      "---------------------------------------\n",
      "RandomForestClassifier_0.81 saved successfully!\n",
      "Model XGBClassifier works with 17 features\n",
      "---------------------------------------\n",
      "XGBClassifier_0.82 saved successfully!\n",
      "Model GaussianNB works with 15 features\n",
      "---------------------------------------\n",
      "GaussianNB_0.34 saved successfully!\n",
      "Model KNeighborsClassifier works with 28 features\n",
      "---------------------------------------\n",
      "KNeighborsClassifier_0.76 saved successfully!\n",
      "Model AdaBoostClassifier works with 27 features\n",
      "---------------------------------------\n",
      "AdaBoostClassifier_0.82 saved successfully!\n"
     ]
    }
   ],
   "source": [
    "for clf in tqdm(classifiers):\n",
    "    # perform selection of features by model\n",
    "    features_names, features_scores, artifact_name = select_k_variables(clf, X, y, n_colums, min_cols)\n",
    "    # saving features used by model\n",
    "    save_features_name(features_names, models_path, artifact_name)\n",
    "    # saving features used with important scores\n",
    "    features_scores.to_csv(f\"{models_path}/features_scores_models/{artifact_name}.csv\", index=False)"
   ],
   "metadata": {
    "collapsed": false,
    "pycharm": {
     "name": "#%%\n"
    }
   }
  },
  {
   "cell_type": "markdown",
   "source": [
    "***\n",
    "### Training Models\n",
    "\n",
    "#### Apply SMOTE to get a balanced dataset"
   ],
   "metadata": {
    "collapsed": false,
    "pycharm": {
     "name": "#%% md\n"
    }
   }
  },
  {
   "cell_type": "code",
   "execution_count": 7,
   "outputs": [],
   "source": [
    "# Split your data into training and test set\n",
    "X_train, X_test, y_train, y_test = train_test_split(X, y, test_size=0.3, random_state=123)"
   ],
   "metadata": {
    "collapsed": false,
    "pycharm": {
     "name": "#%%\n"
    }
   }
  },
  {
   "cell_type": "code",
   "execution_count": 8,
   "outputs": [
    {
     "name": "stdout",
     "output_type": "stream",
     "text": [
      "Dimension of training set before resampling:  (20953, 41)\n",
      "Dimension of training set after resampling:  (32572, 41)\n"
     ]
    }
   ],
   "source": [
    "# Apply resampling method to training data\n",
    "resample = BorderlineSMOTE()\n",
    "X_train_resampled, y_train_resampled = resample.fit_resample(X_train, y_train)\n",
    "\n",
    "print('Dimension of training set before resampling: ', X_train.shape)\n",
    "print('Dimension of training set after resampling: ', X_train_resampled.shape)\n"
   ],
   "metadata": {
    "collapsed": false,
    "pycharm": {
     "name": "#%%\n"
    }
   }
  },
  {
   "cell_type": "code",
   "execution_count": 9,
   "outputs": [],
   "source": [
    "# Define a result table as a DataFrame\n",
    "result_table = pd.DataFrame(columns=['classifiers',\n",
    "                                     'auc',\n",
    "                                     'best_params',\n",
    "                                     'best_score',\n",
    "                                     'n_features'])"
   ],
   "metadata": {
    "collapsed": false,
    "pycharm": {
     "name": "#%%\n"
    }
   }
  },
  {
   "cell_type": "code",
   "execution_count": 10,
   "outputs": [],
   "source": [
    "classifiers = [\n",
    "    {\"Model\":rf,\n",
    "        \"params\":{'max_depth': [7,8],\n",
    "                  'max_features': [7,8],\n",
    "                  'n_estimators': [60,70]}},\n",
    "    {\"Model\":knn,\n",
    "        \"params\":{\"n_neighbors\":[2,3],\n",
    "                  'algorithm':['auto', 'ball_tree']}},\n",
    "    {\"Model\":xgboost,\n",
    "        \"params\":{'max_depth': [7,11],\n",
    "                  'learning_rate':[0.2,0.5],\n",
    "                  'eval_metric':['mlogloss']}},\n",
    "    {\"Model\":ada,\n",
    "        \"params\":{'n_estimators':[60,70],\n",
    "                  'learning_rate':[0.05, 0.01, 0.1]}},\n",
    "    {\"Model\":svc,\n",
    "        \"params\":{'kernel':['linear', 'poly', 'rbf'],\n",
    "                  'C':[0.05, 0.01, 0.1],\n",
    "                  'gamma':[0.05, 0.01, 0.1]}},\n",
    "    {\"Model\":lr,\n",
    "        \"params\":{'penalty':['l2'],\n",
    "                  'C':[100,10,1]}}\n",
    "]"
   ],
   "metadata": {
    "collapsed": false,
    "pycharm": {
     "name": "#%%\n"
    }
   }
  },
  {
   "cell_type": "code",
   "execution_count": 11,
   "outputs": [
    {
     "name": "stderr",
     "output_type": "stream",
     "text": [
      "  0%|          | 0/6 [01:55<?, ?it/s]\n"
     ]
    },
    {
     "name": "stdout",
     "output_type": "stream",
     "text": [
      "Training RandomForestClassifier-v1:\n",
      "This model uses 27 features\n",
      "F1 score in training is: 0.8138577387050805\n",
      "Best params in training are: {'max_depth': 8, 'max_features': 8, 'n_estimators': 60}\n",
      "Classifier in testing:  RandomForestClassifier\n",
      "              precision    recall  f1-score   support\n",
      "\n",
      "  No Default       0.86      0.91      0.88      7020\n",
      "     Default       0.59      0.46      0.51      1960\n",
      "\n",
      "    accuracy                           0.81      8980\n",
      "   macro avg       0.72      0.68      0.70      8980\n",
      "weighted avg       0.80      0.81      0.80      8980\n",
      "\n",
      "---------------------------------------------------------\n",
      "Model RandomForestClassifier-v1.pkl saved successfully\n",
      "ROC Curve of model RandomForestClassifier-v1.png saved successfully\n"
     ]
    },
    {
     "data": {
      "text/plain": "<Figure size 432x288 with 1 Axes>",
      "image/png": "[encoded data removed]"
     },
     "metadata": {
      "needs_background": "light"
     },
     "output_type": "display_data"
    }
   ],
   "source": [
    "version = 'v1'\n",
    "features_path = '../models/features_by_models'\n",
    "for clf in tqdm(classifiers):\n",
    "    estimator = clf['Model']\n",
    "    param_grid = clf['params']\n",
    "    name_model = estimator.__class__.__name__\n",
    "    # get features names for model\n",
    "    columns = get_columns_model(name_model, features_path)\n",
    "    # use best features for models\n",
    "    X_train_filtered = X_train_resampled[columns]\n",
    "    X_test_filtered = X_test[columns]\n",
    "    # training process\n",
    "    fpr, tpr, auc, best_params, best_score = train_model(estimator,\n",
    "                                                         param_grid,\n",
    "                                                         X_train_filtered,\n",
    "                                                         y_train_resampled,\n",
    "                                                         X_test_filtered,\n",
    "                                                         y_test,\n",
    "                                                         models_path,\n",
    "                                                         output_path,\n",
    "                                                         version)\n",
    "\n",
    "    result_table = result_table.append({\n",
    "        'classifiers': f\"{name_model}-{version}\",\n",
    "        'auc': auc,\n",
    "        'best_params': best_params,\n",
    "        'best_score': best_score,\n",
    "        'n_features': X_train_filtered.shape[1]},ignore_index=True)\n",
    "\n",
    "    break"
   ],
   "metadata": {
    "collapsed": false,
    "pycharm": {
     "name": "#%%\n"
    }
   }
  },
  {
   "cell_type": "code",
   "execution_count": null,
   "outputs": [
    {
     "name": "stderr",
     "output_type": "stream",
     "text": [
      "  0%|          | 0/6 [00:00<?, ?it/s]"
     ]
    }
   ],
   "source": [
    "version = 'v2'\n",
    "for clf in tqdm(classifiers):\n",
    "    estimator = clf['Model']\n",
    "    param_grid = clf['params']\n",
    "    name_model = estimator.__class__.__name__\n",
    "    # training process\n",
    "    fpr, tpr, auc, best_params, best_score = train_model(estimator,\n",
    "                                                         param_grid,\n",
    "                                                         X_train_resampled,\n",
    "                                                         y_train_resampled,\n",
    "                                                         X_test,\n",
    "                                                         y_test,\n",
    "                                                         models_path,\n",
    "                                                         output_path,\n",
    "                                                         version)\n",
    "\n",
    "    result_table = result_table.append({\n",
    "        'classifiers': f\"{name_model}-{version}\",\n",
    "        'auc': auc,\n",
    "        'best_params': best_params,\n",
    "        'best_score': best_score,\n",
    "        'n_features': X_train_resampled.shape[1]},ignore_index=True)\n",
    "\n",
    "    break"
   ],
   "metadata": {
    "collapsed": false,
    "pycharm": {
     "name": "#%%\n",
     "is_executing": true
    }
   }
  },
  {
   "cell_type": "code",
   "execution_count": 12,
   "outputs": [
    {
     "data": {
      "text/plain": "                 classifiers       auc  \\\n0  RandomForestClassifier-v1  0.770342   \n\n                                         best_params  best_score n_features  \n0  {'max_depth': 8, 'max_features': 8, 'n_estimat...    0.813858         27  ",
      "text/html": "<div>\n<style scoped>\n    .dataframe tbody tr th:only-of-type {\n        vertical-align: middle;\n    }\n\n    .dataframe tbody tr th {\n        vertical-align: top;\n    }\n\n    .dataframe thead th {\n        text-align: right;\n    }\n</style>\n<table border=\"1\" class=\"dataframe\">\n  <thead>\n    <tr style=\"text-align: right;\">\n      <th></th>\n      <th>classifiers</th>\n      <th>auc</th>\n      <th>best_params</th>\n      <th>best_score</th>\n      <th>n_features</th>\n    </tr>\n  </thead>\n  <tbody>\n    <tr>\n      <th>0</th>\n      <td>RandomForestClassifier-v1</td>\n      <td>0.770342</td>\n      <td>{'max_depth': 8, 'max_features': 8, 'n_estimat...</td>\n      <td>0.813858</td>\n      <td>27</td>\n    </tr>\n  </tbody>\n</table>\n</div>"
     },
     "execution_count": 12,
     "metadata": {},
     "output_type": "execute_result"
    }
   ],
   "source": [
    "result_table"
   ],
   "metadata": {
    "collapsed": false,
    "pycharm": {
     "name": "#%%\n"
    }
   }
  },
  {
   "cell_type": "code",
   "execution_count": null,
   "outputs": [],
   "source": [],
   "metadata": {
    "collapsed": false,
    "pycharm": {
     "name": "#%%\n"
    }
   }
  }
 ],
 "metadata": {
  "kernelspec": {
   "display_name": "Python 3",
   "language": "python",
   "name": "python3"
  },
  "language_info": {
   "codemirror_mode": {
    "name": "ipython",
    "version": 2
   },
   "file_extension": ".py",
   "mimetype": "text/x-python",
   "name": "python",
   "nbconvert_exporter": "python",
   "pygments_lexer": "ipython2",
   "version": "2.7.6"
  }
 },
 "nbformat": 4,
 "nbformat_minor": 0
}