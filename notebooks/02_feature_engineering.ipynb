{
 "cells": [
  {
   "cell_type": "markdown",
   "source": [
    "# Feature Engineering\n",
    "\n",
    "#### Variables:\n",
    "\n",
    "* `PAY_6` - `PAY_0`\n",
    "* `PAY_AMT1` - `PAY_AMT6`\n",
    "* `BILL_AMT1` - `BILL_AMT6`\n",
    "* `PAY_AMT_LAST_3M`: Amount of payment accumulated last quarter (3 months)\n",
    "* `PAY_AMT_LAST_6M`: Amount of payment accumulated last semester (6 months)\n",
    "* `BILL_AMT_LAST_3M`: Amount accumulated of bills last 3 months\n",
    "* `BILL_AMT_LAST_6M`: Amount accumulated of bills last 6 months\n",
    "* `AVG_REPAYMENT_6M`: Average repayment last 6 months\n",
    "* `AVG_REPAYMENT_3M`: Average repayment last 3 months\n",
    "* `PAY_TO_LIMIT_RATIO_LAST_6M`: Ratio Amount canceled to limit last 6 months\n",
    "* `PAY_TO_LIMIT_RATIO_LAST_3M`: Ratio Amount canceled to limit last 3 months\n",
    "* `PAY_TO_BILL_AMOUNT_t`: Ratio Amount canceled to total bill in time t\n",
    "* `PAY_AMOUNT_STD_LAST_6M`: Standard deviation of repayments\n",
    "* `BILL_AMOUNT_STD_LAST_6M`: Standard deviations of total bill\n",
    "* `AGE_GROUP`: (21,40], (40,60], >60\n",
    "* `RISKY_GROUP_1`: (Gender = Female) & (Education in ('University', 'Graduate School')\n",
    " & (Marital Status in ('Single','Married'))\n",
    "* `RISKY_GROUP_2`: (Gender = Male) & (Education in ('University', 'Graduate School')\n",
    " & (Marital Status = Married)\n",
    "* `RISKY_GROUP_3`: (LIMIT_BAL >= 50K & LIMIT_BAL <= 200K) & (AGE_GROUP = (21, 40])\n",
    "\n",
    "### Load libraries"
   ],
   "metadata": {
    "collapsed": false,
    "pycharm": {
     "name": "#%% md\n"
    }
   }
  },
  {
   "cell_type": "code",
   "execution_count": 1,
   "metadata": {
    "collapsed": true
   },
   "outputs": [],
   "source": [
    "import warnings\n",
    "warnings.filterwarnings('ignore')\n",
    "warnings.simplefilter('ignore')\n",
    "\n",
    "import pandas as pd\n",
    "import numpy as np\n",
    "\n",
    "from utils.features import *\n",
    "import time"
   ]
  },
  {
   "cell_type": "code",
   "execution_count": 2,
   "outputs": [],
   "source": [
    "# notebooks parameters\n",
    "\n",
    "models_path = '../models'\n",
    "data_path = '../data'\n",
    "outputs_path = '../outputs'"
   ],
   "metadata": {
    "collapsed": false,
    "pycharm": {
     "name": "#%%\n"
    }
   }
  },
  {
   "cell_type": "code",
   "execution_count": 3,
   "outputs": [],
   "source": [
    "# load data\n",
    "df = pd.read_csv(f\"{data_path}/raw_data.csv\")"
   ],
   "metadata": {
    "collapsed": false,
    "pycharm": {
     "name": "#%%\n"
    }
   }
  },
  {
   "cell_type": "markdown",
   "source": [
    "***\n",
    "### Apply Feature Engineering Function\n"
   ],
   "metadata": {
    "collapsed": false,
    "pycharm": {
     "name": "#%% md\n"
    }
   }
  },
  {
   "cell_type": "code",
   "execution_count": 4,
   "outputs": [
    {
     "name": "stdout",
     "output_type": "stream",
     "text": [
      "The feature engineering process took: 0.0498661994934082\n"
     ]
    }
   ],
   "source": [
    "start = time.time()\n",
    "final_data = apply_feature_eng(df)\n",
    "end = time.time()\n",
    "\n",
    "print(f\"The feature engineering process took: {end-start}\")"
   ],
   "metadata": {
    "collapsed": false,
    "pycharm": {
     "name": "#%%\n"
    }
   }
  },
  {
   "cell_type": "code",
   "execution_count": 5,
   "outputs": [],
   "source": [
    "final_data.to_csv(f\"{data_path}/clean-dataset.csv\", index = False)"
   ],
   "metadata": {
    "collapsed": false,
    "pycharm": {
     "name": "#%%\n"
    }
   }
  },
  {
   "cell_type": "code",
   "execution_count": 6,
   "outputs": [
    {
     "name": "stdout",
     "output_type": "stream",
     "text": [
      "All done :)\n"
     ]
    }
   ],
   "source": [
    "print('All done :)')"
   ],
   "metadata": {
    "collapsed": false,
    "pycharm": {
     "name": "#%%\n"
    }
   }
  }
 ],
 "metadata": {
  "kernelspec": {
   "display_name": "Python 3",
   "language": "python",
   "name": "python3"
  },
  "language_info": {
   "codemirror_mode": {
    "name": "ipython",
    "version": 2
   },
   "file_extension": ".py",
   "mimetype": "text/x-python",
   "name": "python",
   "nbconvert_exporter": "python",
   "pygments_lexer": "ipython2",
   "version": "2.7.6"
  }
 },
 "nbformat": 4,
 "nbformat_minor": 0
}